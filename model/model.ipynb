{
  "cells": [
    {
      "cell_type": "code",
      "execution_count": 24,
      "metadata": {
        "id": "O92RX7hSO6l6"
      },
      "outputs": [],
      "source": [
        "## Importing the libraries\n",
        "\n",
        "import pandas as pd ## pandas is used to manipulate the dataframe\n",
        "import numpy as np ## numpy is used to do scientific calculation\n",
        "import matplotlib.pyplot as plt ## matplotlib is used for visualization\n",
        "import seaborn as sns ## seaborn is used for visualization\n",
        "from pylab import rcParams\n",
        "rcParams['figure.figsize'] = 10, 5\n",
        "from sklearn.cluster import KMeans\n",
        "from sklearn.metrics import silhouette_score, rand_score, adjusted_rand_score\n",
        "from sklearn.decomposition import PCA\n",
        "from sklearn.preprocessing import LabelEncoder, StandardScaler, PowerTransformer\n",
        "from yellowbrick.cluster import KElbowVisualizer\n",
        "%matplotlib inline\n",
        "import warnings ## used to remove warnings\n",
        "warnings.filterwarnings('ignore')"
      ]
    },
    {
      "cell_type": "code",
      "execution_count": 25,
      "metadata": {
        "id": "PYH5FYk3PC0B"
      },
      "outputs": [],
      "source": [
        "# Import Data\n",
        "dataset=pd.read_csv('insurance.csv')"
      ]
    },
    {
      "cell_type": "code",
      "execution_count": 26,
      "metadata": {
        "colab": {
          "base_uri": "https://localhost:8080/",
          "height": 206
        },
        "id": "u-zVMSKvPWM9",
        "outputId": "30a06c1b-5252-4133-ea81-4aaa60194e63"
      },
      "outputs": [
        {
          "data": {
            "text/html": [
              "<div>\n",
              "<style scoped>\n",
              "    .dataframe tbody tr th:only-of-type {\n",
              "        vertical-align: middle;\n",
              "    }\n",
              "\n",
              "    .dataframe tbody tr th {\n",
              "        vertical-align: top;\n",
              "    }\n",
              "\n",
              "    .dataframe thead th {\n",
              "        text-align: right;\n",
              "    }\n",
              "</style>\n",
              "<table border=\"1\" class=\"dataframe\">\n",
              "  <thead>\n",
              "    <tr style=\"text-align: right;\">\n",
              "      <th></th>\n",
              "      <th>age</th>\n",
              "      <th>sex</th>\n",
              "      <th>bmi</th>\n",
              "      <th>children</th>\n",
              "      <th>smoker</th>\n",
              "      <th>region</th>\n",
              "      <th>charges</th>\n",
              "    </tr>\n",
              "  </thead>\n",
              "  <tbody>\n",
              "    <tr>\n",
              "      <th>0</th>\n",
              "      <td>19</td>\n",
              "      <td>female</td>\n",
              "      <td>27.900</td>\n",
              "      <td>0</td>\n",
              "      <td>yes</td>\n",
              "      <td>southwest</td>\n",
              "      <td>16884.92400</td>\n",
              "    </tr>\n",
              "    <tr>\n",
              "      <th>1</th>\n",
              "      <td>18</td>\n",
              "      <td>male</td>\n",
              "      <td>33.770</td>\n",
              "      <td>1</td>\n",
              "      <td>no</td>\n",
              "      <td>southeast</td>\n",
              "      <td>1725.55230</td>\n",
              "    </tr>\n",
              "    <tr>\n",
              "      <th>2</th>\n",
              "      <td>28</td>\n",
              "      <td>male</td>\n",
              "      <td>33.000</td>\n",
              "      <td>3</td>\n",
              "      <td>no</td>\n",
              "      <td>southeast</td>\n",
              "      <td>4449.46200</td>\n",
              "    </tr>\n",
              "    <tr>\n",
              "      <th>3</th>\n",
              "      <td>33</td>\n",
              "      <td>male</td>\n",
              "      <td>22.705</td>\n",
              "      <td>0</td>\n",
              "      <td>no</td>\n",
              "      <td>northwest</td>\n",
              "      <td>21984.47061</td>\n",
              "    </tr>\n",
              "    <tr>\n",
              "      <th>4</th>\n",
              "      <td>32</td>\n",
              "      <td>male</td>\n",
              "      <td>28.880</td>\n",
              "      <td>0</td>\n",
              "      <td>no</td>\n",
              "      <td>northwest</td>\n",
              "      <td>3866.85520</td>\n",
              "    </tr>\n",
              "  </tbody>\n",
              "</table>\n",
              "</div>"
            ],
            "text/plain": [
              "   age     sex     bmi  children smoker     region      charges\n",
              "0   19  female  27.900         0    yes  southwest  16884.92400\n",
              "1   18    male  33.770         1     no  southeast   1725.55230\n",
              "2   28    male  33.000         3     no  southeast   4449.46200\n",
              "3   33    male  22.705         0     no  northwest  21984.47061\n",
              "4   32    male  28.880         0     no  northwest   3866.85520"
            ]
          },
          "execution_count": 26,
          "metadata": {},
          "output_type": "execute_result"
        }
      ],
      "source": [
        "dataset.head()"
      ]
    },
    {
      "cell_type": "code",
      "execution_count": 27,
      "metadata": {
        "colab": {
          "base_uri": "https://localhost:8080/"
        },
        "id": "OMSpwtP_PjFd",
        "outputId": "a3be22a6-c8a9-4776-af6f-906a05d050cd"
      },
      "outputs": [
        {
          "data": {
            "text/plain": [
              "(1338, 7)"
            ]
          },
          "execution_count": 27,
          "metadata": {},
          "output_type": "execute_result"
        }
      ],
      "source": [
        "dataset.shape"
      ]
    },
    {
      "cell_type": "code",
      "execution_count": 28,
      "metadata": {
        "colab": {
          "base_uri": "https://localhost:8080/"
        },
        "id": "tJbVvauJPoLo",
        "outputId": "a18c0706-b55a-44c6-f13a-9acd40589100"
      },
      "outputs": [
        {
          "data": {
            "text/plain": [
              "age           int64\n",
              "sex          object\n",
              "bmi         float64\n",
              "children      int64\n",
              "smoker       object\n",
              "region       object\n",
              "charges     float64\n",
              "dtype: object"
            ]
          },
          "execution_count": 28,
          "metadata": {},
          "output_type": "execute_result"
        }
      ],
      "source": [
        "dataset.dtypes"
      ]
    },
    {
      "cell_type": "code",
      "execution_count": 29,
      "metadata": {
        "colab": {
          "base_uri": "https://localhost:8080/",
          "height": 300
        },
        "id": "L9TBoOO0Prji",
        "outputId": "7211ce0c-7749-4e6f-ebe5-aa2aa4430257"
      },
      "outputs": [
        {
          "data": {
            "text/html": [
              "<div>\n",
              "<style scoped>\n",
              "    .dataframe tbody tr th:only-of-type {\n",
              "        vertical-align: middle;\n",
              "    }\n",
              "\n",
              "    .dataframe tbody tr th {\n",
              "        vertical-align: top;\n",
              "    }\n",
              "\n",
              "    .dataframe thead th {\n",
              "        text-align: right;\n",
              "    }\n",
              "</style>\n",
              "<table border=\"1\" class=\"dataframe\">\n",
              "  <thead>\n",
              "    <tr style=\"text-align: right;\">\n",
              "      <th></th>\n",
              "      <th>age</th>\n",
              "      <th>bmi</th>\n",
              "      <th>children</th>\n",
              "      <th>charges</th>\n",
              "    </tr>\n",
              "  </thead>\n",
              "  <tbody>\n",
              "    <tr>\n",
              "      <th>count</th>\n",
              "      <td>1338.000000</td>\n",
              "      <td>1338.000000</td>\n",
              "      <td>1338.000000</td>\n",
              "      <td>1338.000000</td>\n",
              "    </tr>\n",
              "    <tr>\n",
              "      <th>mean</th>\n",
              "      <td>39.207025</td>\n",
              "      <td>30.663397</td>\n",
              "      <td>1.094918</td>\n",
              "      <td>13270.422265</td>\n",
              "    </tr>\n",
              "    <tr>\n",
              "      <th>std</th>\n",
              "      <td>14.049960</td>\n",
              "      <td>6.098187</td>\n",
              "      <td>1.205493</td>\n",
              "      <td>12110.011237</td>\n",
              "    </tr>\n",
              "    <tr>\n",
              "      <th>min</th>\n",
              "      <td>18.000000</td>\n",
              "      <td>15.960000</td>\n",
              "      <td>0.000000</td>\n",
              "      <td>1121.873900</td>\n",
              "    </tr>\n",
              "    <tr>\n",
              "      <th>25%</th>\n",
              "      <td>27.000000</td>\n",
              "      <td>26.296250</td>\n",
              "      <td>0.000000</td>\n",
              "      <td>4740.287150</td>\n",
              "    </tr>\n",
              "    <tr>\n",
              "      <th>50%</th>\n",
              "      <td>39.000000</td>\n",
              "      <td>30.400000</td>\n",
              "      <td>1.000000</td>\n",
              "      <td>9382.033000</td>\n",
              "    </tr>\n",
              "    <tr>\n",
              "      <th>75%</th>\n",
              "      <td>51.000000</td>\n",
              "      <td>34.693750</td>\n",
              "      <td>2.000000</td>\n",
              "      <td>16639.912515</td>\n",
              "    </tr>\n",
              "    <tr>\n",
              "      <th>max</th>\n",
              "      <td>64.000000</td>\n",
              "      <td>53.130000</td>\n",
              "      <td>5.000000</td>\n",
              "      <td>63770.428010</td>\n",
              "    </tr>\n",
              "  </tbody>\n",
              "</table>\n",
              "</div>"
            ],
            "text/plain": [
              "               age          bmi     children       charges\n",
              "count  1338.000000  1338.000000  1338.000000   1338.000000\n",
              "mean     39.207025    30.663397     1.094918  13270.422265\n",
              "std      14.049960     6.098187     1.205493  12110.011237\n",
              "min      18.000000    15.960000     0.000000   1121.873900\n",
              "25%      27.000000    26.296250     0.000000   4740.287150\n",
              "50%      39.000000    30.400000     1.000000   9382.033000\n",
              "75%      51.000000    34.693750     2.000000  16639.912515\n",
              "max      64.000000    53.130000     5.000000  63770.428010"
            ]
          },
          "execution_count": 29,
          "metadata": {},
          "output_type": "execute_result"
        }
      ],
      "source": [
        "dataset.describe()"
      ]
    },
    {
      "cell_type": "code",
      "execution_count": 30,
      "metadata": {
        "colab": {
          "base_uri": "https://localhost:8080/"
        },
        "id": "SvbwAcJLPvJ1",
        "outputId": "6f7d3ea3-07aa-4919-cfbf-03b094ff6dd2"
      },
      "outputs": [
        {
          "data": {
            "text/plain": [
              "age         0\n",
              "sex         0\n",
              "bmi         0\n",
              "children    0\n",
              "smoker      0\n",
              "region      0\n",
              "charges     0\n",
              "dtype: int64"
            ]
          },
          "execution_count": 30,
          "metadata": {},
          "output_type": "execute_result"
        }
      ],
      "source": [
        "def missing (dataset):\n",
        " missing_number = dataset.isnull().sum().sort_values(ascending=False)\n",
        " missing_percent = (dataset.isnull().sum()/dataset.isnull().count()).sort_values(ascending=False)\n",
        " missing_values = pd.concat([missing_number, missing_percent], axis=1, keys=['Missing_Number', 'Missing_Percent'])\n",
        " return missing_values\n",
        "\n",
        " #handling the missing values ## there is no missing values\n",
        "dataset.isnull().sum()"
      ]
    },
    {
      "cell_type": "code",
      "execution_count": 31,
      "metadata": {
        "colab": {
          "base_uri": "https://localhost:8080/"
        },
        "id": "sVUgH81tP4qE",
        "outputId": "b7d3a2fc-12c7-45c1-b956-92b3f12b9685"
      },
      "outputs": [
        {
          "data": {
            "text/plain": [
              "array([3, 2, 1, 0])"
            ]
          },
          "execution_count": 31,
          "metadata": {},
          "output_type": "execute_result"
        }
      ],
      "source": [
        "#Label Encoder\n",
        "label_encoder = LabelEncoder()\n",
        "\n",
        "dataset[\"sex\"]= label_encoder.fit_transform(dataset[\"sex\"])\n",
        "dataset[\"sex\"].unique()\n",
        "\n",
        "dataset[\"smoker\"]= label_encoder.fit_transform(dataset[\"smoker\"])\n",
        "dataset[\"smoker\"].unique()\n",
        "\n",
        "dataset[\"region\"]= label_encoder.fit_transform(dataset[\"region\"])\n",
        "dataset[\"region\"].unique()"
      ]
    },
    {
      "cell_type": "code",
      "execution_count": 32,
      "metadata": {
        "colab": {
          "base_uri": "https://localhost:8080/",
          "height": 269
        },
        "id": "_5yZ46ZHhGeh",
        "outputId": "1bf0a2a3-bf14-485a-e81a-b1b5f5b561ad"
      },
      "outputs": [
        {
          "data": {
            "text/html": [
              "<div>\n",
              "<style scoped>\n",
              "    .dataframe tbody tr th:only-of-type {\n",
              "        vertical-align: middle;\n",
              "    }\n",
              "\n",
              "    .dataframe tbody tr th {\n",
              "        vertical-align: top;\n",
              "    }\n",
              "\n",
              "    .dataframe thead th {\n",
              "        text-align: right;\n",
              "    }\n",
              "</style>\n",
              "<table border=\"1\" class=\"dataframe\">\n",
              "  <thead>\n",
              "    <tr style=\"text-align: right;\">\n",
              "      <th></th>\n",
              "      <th>age</th>\n",
              "      <th>sex</th>\n",
              "      <th>bmi</th>\n",
              "      <th>children</th>\n",
              "      <th>smoker</th>\n",
              "      <th>region</th>\n",
              "      <th>charges</th>\n",
              "    </tr>\n",
              "  </thead>\n",
              "  <tbody>\n",
              "    <tr>\n",
              "      <th>age</th>\n",
              "      <td>1.000000</td>\n",
              "      <td>-0.020856</td>\n",
              "      <td>0.109272</td>\n",
              "      <td>0.042469</td>\n",
              "      <td>-0.025019</td>\n",
              "      <td>0.002127</td>\n",
              "      <td>0.299008</td>\n",
              "    </tr>\n",
              "    <tr>\n",
              "      <th>sex</th>\n",
              "      <td>-0.020856</td>\n",
              "      <td>1.000000</td>\n",
              "      <td>0.046371</td>\n",
              "      <td>0.017163</td>\n",
              "      <td>0.076185</td>\n",
              "      <td>0.004588</td>\n",
              "      <td>0.057292</td>\n",
              "    </tr>\n",
              "    <tr>\n",
              "      <th>bmi</th>\n",
              "      <td>0.109272</td>\n",
              "      <td>0.046371</td>\n",
              "      <td>1.000000</td>\n",
              "      <td>0.012759</td>\n",
              "      <td>0.003750</td>\n",
              "      <td>0.157566</td>\n",
              "      <td>0.198341</td>\n",
              "    </tr>\n",
              "    <tr>\n",
              "      <th>children</th>\n",
              "      <td>0.042469</td>\n",
              "      <td>0.017163</td>\n",
              "      <td>0.012759</td>\n",
              "      <td>1.000000</td>\n",
              "      <td>0.007673</td>\n",
              "      <td>0.016569</td>\n",
              "      <td>0.067998</td>\n",
              "    </tr>\n",
              "    <tr>\n",
              "      <th>smoker</th>\n",
              "      <td>-0.025019</td>\n",
              "      <td>0.076185</td>\n",
              "      <td>0.003750</td>\n",
              "      <td>0.007673</td>\n",
              "      <td>1.000000</td>\n",
              "      <td>-0.002181</td>\n",
              "      <td>0.787251</td>\n",
              "    </tr>\n",
              "    <tr>\n",
              "      <th>region</th>\n",
              "      <td>0.002127</td>\n",
              "      <td>0.004588</td>\n",
              "      <td>0.157566</td>\n",
              "      <td>0.016569</td>\n",
              "      <td>-0.002181</td>\n",
              "      <td>1.000000</td>\n",
              "      <td>-0.006208</td>\n",
              "    </tr>\n",
              "    <tr>\n",
              "      <th>charges</th>\n",
              "      <td>0.299008</td>\n",
              "      <td>0.057292</td>\n",
              "      <td>0.198341</td>\n",
              "      <td>0.067998</td>\n",
              "      <td>0.787251</td>\n",
              "      <td>-0.006208</td>\n",
              "      <td>1.000000</td>\n",
              "    </tr>\n",
              "  </tbody>\n",
              "</table>\n",
              "</div>"
            ],
            "text/plain": [
              "               age       sex       bmi  children    smoker    region   charges\n",
              "age       1.000000 -0.020856  0.109272  0.042469 -0.025019  0.002127  0.299008\n",
              "sex      -0.020856  1.000000  0.046371  0.017163  0.076185  0.004588  0.057292\n",
              "bmi       0.109272  0.046371  1.000000  0.012759  0.003750  0.157566  0.198341\n",
              "children  0.042469  0.017163  0.012759  1.000000  0.007673  0.016569  0.067998\n",
              "smoker   -0.025019  0.076185  0.003750  0.007673  1.000000 -0.002181  0.787251\n",
              "region    0.002127  0.004588  0.157566  0.016569 -0.002181  1.000000 -0.006208\n",
              "charges   0.299008  0.057292  0.198341  0.067998  0.787251 -0.006208  1.000000"
            ]
          },
          "execution_count": 32,
          "metadata": {},
          "output_type": "execute_result"
        }
      ],
      "source": [
        "dataset.corr()"
      ]
    },
    {
      "cell_type": "code",
      "execution_count": 33,
      "metadata": {
        "id": "VAxRQmeKRUGS"
      },
      "outputs": [],
      "source": [
        "dataset = dataset[['bmi','charges']]"
      ]
    },
    {
      "cell_type": "code",
      "execution_count": 34,
      "metadata": {
        "colab": {
          "base_uri": "https://localhost:8080/",
          "height": 287
        },
        "id": "21UU1psoRJ6h",
        "outputId": "4b4d4170-8a19-4d90-eb94-e89d8d6bcefc"
      },
      "outputs": [
        {
          "data": {
            "text/plain": [
              "<AxesSubplot: >"
            ]
          },
          "execution_count": 34,
          "metadata": {},
          "output_type": "execute_result"
        },
        {
          "data": {
            "image/png": "[encoded data removed]",
            "text/plain": [
              "<Figure size 1000x500 with 2 Axes>"
            ]
          },
          "metadata": {},
          "output_type": "display_data"
        }
      ],
      "source": [
        "# Plot the correlation matrix\n",
        "sns.heatmap(dataset.corr(), annot=True)"
      ]
    },
    {
      "cell_type": "code",
      "execution_count": 35,
      "metadata": {
        "colab": {
          "base_uri": "https://localhost:8080/",
          "height": 206
        },
        "id": "InRmvz8YRnYf",
        "outputId": "fc95692b-b553-4728-b45e-8ef915d0a903"
      },
      "outputs": [
        {
          "data": {
            "text/html": [
              "<div>\n",
              "<style scoped>\n",
              "    .dataframe tbody tr th:only-of-type {\n",
              "        vertical-align: middle;\n",
              "    }\n",
              "\n",
              "    .dataframe tbody tr th {\n",
              "        vertical-align: top;\n",
              "    }\n",
              "\n",
              "    .dataframe thead th {\n",
              "        text-align: right;\n",
              "    }\n",
              "</style>\n",
              "<table border=\"1\" class=\"dataframe\">\n",
              "  <thead>\n",
              "    <tr style=\"text-align: right;\">\n",
              "      <th></th>\n",
              "      <th>bmi</th>\n",
              "      <th>charges</th>\n",
              "    </tr>\n",
              "  </thead>\n",
              "  <tbody>\n",
              "    <tr>\n",
              "      <th>0</th>\n",
              "      <td>27.900</td>\n",
              "      <td>16884.92400</td>\n",
              "    </tr>\n",
              "    <tr>\n",
              "      <th>1</th>\n",
              "      <td>33.770</td>\n",
              "      <td>1725.55230</td>\n",
              "    </tr>\n",
              "    <tr>\n",
              "      <th>2</th>\n",
              "      <td>33.000</td>\n",
              "      <td>4449.46200</td>\n",
              "    </tr>\n",
              "    <tr>\n",
              "      <th>3</th>\n",
              "      <td>22.705</td>\n",
              "      <td>21984.47061</td>\n",
              "    </tr>\n",
              "    <tr>\n",
              "      <th>4</th>\n",
              "      <td>28.880</td>\n",
              "      <td>3866.85520</td>\n",
              "    </tr>\n",
              "  </tbody>\n",
              "</table>\n",
              "</div>"
            ],
            "text/plain": [
              "      bmi      charges\n",
              "0  27.900  16884.92400\n",
              "1  33.770   1725.55230\n",
              "2  33.000   4449.46200\n",
              "3  22.705  21984.47061\n",
              "4  28.880   3866.85520"
            ]
          },
          "execution_count": 35,
          "metadata": {},
          "output_type": "execute_result"
        }
      ],
      "source": [
        "dataset.head()"
      ]
    },
    {
      "cell_type": "code",
      "execution_count": 36,
      "metadata": {
        "id": "vkDsKbtogJQb"
      },
      "outputs": [],
      "source": [
        "# defining independent and dependent variables\n",
        "\n",
        "x=dataset.iloc[:,0:-1] # independent variables\n",
        "y=dataset.charges  # dependent variable"
      ]
    },
    {
      "cell_type": "code",
      "execution_count": 37,
      "metadata": {
        "colab": {
          "base_uri": "https://localhost:8080/",
          "height": 424
        },
        "id": "UXywNtABgqJD",
        "outputId": "189c80c8-de47-4d62-d328-2595a50f6c6a"
      },
      "outputs": [
        {
          "data": {
            "text/html": [
              "<div>\n",
              "<style scoped>\n",
              "    .dataframe tbody tr th:only-of-type {\n",
              "        vertical-align: middle;\n",
              "    }\n",
              "\n",
              "    .dataframe tbody tr th {\n",
              "        vertical-align: top;\n",
              "    }\n",
              "\n",
              "    .dataframe thead th {\n",
              "        text-align: right;\n",
              "    }\n",
              "</style>\n",
              "<table border=\"1\" class=\"dataframe\">\n",
              "  <thead>\n",
              "    <tr style=\"text-align: right;\">\n",
              "      <th></th>\n",
              "      <th>bmi</th>\n",
              "    </tr>\n",
              "  </thead>\n",
              "  <tbody>\n",
              "    <tr>\n",
              "      <th>0</th>\n",
              "      <td>27.900</td>\n",
              "    </tr>\n",
              "    <tr>\n",
              "      <th>1</th>\n",
              "      <td>33.770</td>\n",
              "    </tr>\n",
              "    <tr>\n",
              "      <th>2</th>\n",
              "      <td>33.000</td>\n",
              "    </tr>\n",
              "    <tr>\n",
              "      <th>3</th>\n",
              "      <td>22.705</td>\n",
              "    </tr>\n",
              "    <tr>\n",
              "      <th>4</th>\n",
              "      <td>28.880</td>\n",
              "    </tr>\n",
              "    <tr>\n",
              "      <th>...</th>\n",
              "      <td>...</td>\n",
              "    </tr>\n",
              "    <tr>\n",
              "      <th>1333</th>\n",
              "      <td>30.970</td>\n",
              "    </tr>\n",
              "    <tr>\n",
              "      <th>1334</th>\n",
              "      <td>31.920</td>\n",
              "    </tr>\n",
              "    <tr>\n",
              "      <th>1335</th>\n",
              "      <td>36.850</td>\n",
              "    </tr>\n",
              "    <tr>\n",
              "      <th>1336</th>\n",
              "      <td>25.800</td>\n",
              "    </tr>\n",
              "    <tr>\n",
              "      <th>1337</th>\n",
              "      <td>29.070</td>\n",
              "    </tr>\n",
              "  </tbody>\n",
              "</table>\n",
              "<p>1338 rows × 1 columns</p>\n",
              "</div>"
            ],
            "text/plain": [
              "         bmi\n",
              "0     27.900\n",
              "1     33.770\n",
              "2     33.000\n",
              "3     22.705\n",
              "4     28.880\n",
              "...      ...\n",
              "1333  30.970\n",
              "1334  31.920\n",
              "1335  36.850\n",
              "1336  25.800\n",
              "1337  29.070\n",
              "\n",
              "[1338 rows x 1 columns]"
            ]
          },
          "execution_count": 37,
          "metadata": {},
          "output_type": "execute_result"
        }
      ],
      "source": [
        "x"
      ]
    },
    {
      "cell_type": "code",
      "execution_count": 38,
      "metadata": {
        "colab": {
          "base_uri": "https://localhost:8080/"
        },
        "id": "3Zuk1I3eh9bv",
        "outputId": "68b70bf5-76c3-49c8-917e-66703a28f747"
      },
      "outputs": [
        {
          "data": {
            "text/plain": [
              "0       16884.92400\n",
              "1        1725.55230\n",
              "2        4449.46200\n",
              "3       21984.47061\n",
              "4        3866.85520\n",
              "           ...     \n",
              "1333    10600.54830\n",
              "1334     2205.98080\n",
              "1335     1629.83350\n",
              "1336     2007.94500\n",
              "1337    29141.36030\n",
              "Name: charges, Length: 1338, dtype: float64"
            ]
          },
          "execution_count": 38,
          "metadata": {},
          "output_type": "execute_result"
        }
      ],
      "source": [
        "y"
      ]
    },
    {
      "cell_type": "code",
      "execution_count": 39,
      "metadata": {
        "id": "TyEWT2fVBjIh"
      },
      "outputs": [],
      "source": [
        "# scaler = MinMaxScaler()\n",
        "# x_scaled = scalwer.fit_transform(x_array)\n",
        "# x_scaled"
      ]
    },
    {
      "cell_type": "code",
      "execution_count": null,
      "metadata": {
        "id": "HX7G7sFFByeu"
      },
      "outputs": [],
      "source": []
    },
    {
      "cell_type": "code",
      "execution_count": 40,
      "metadata": {
        "colab": {
          "base_uri": "https://localhost:8080/",
          "height": 279
        },
        "id": "3w18CcVHiPiF",
        "outputId": "79cc1dd1-cdea-425b-da7c-45bbec4c405a"
      },
      "outputs": [
        {
          "data": {
            "image/png": "[encoded data removed]",
            "text/plain": [
              "<Figure size 1000x500 with 1 Axes>"
            ]
          },
          "metadata": {},
          "output_type": "display_data"
        }
      ],
      "source": [
        "plt.scatter(dataset['bmi'],dataset['charges'])\n",
        "plt.xlabel('x')\n",
        "plt.ylabel('y')\n",
        "plt.show()"
      ]
    },
    {
      "cell_type": "code",
      "execution_count": 41,
      "metadata": {
        "id": "mg1HPf3Fljz3"
      },
      "outputs": [],
      "source": [
        "X = ['bmi','charges']"
      ]
    },
    {
      "cell_type": "code",
      "execution_count": 42,
      "metadata": {
        "colab": {
          "base_uri": "https://localhost:8080/",
          "height": 294
        },
        "id": "jNFdMlLfiq2J",
        "outputId": "a9620263-beb0-4983-d4bf-f3875806078f"
      },
      "outputs": [
        {
          "data": {
            "image/png": "[encoded data removed]",
            "text/plain": [
              "<Figure size 1000x500 with 1 Axes>"
            ]
          },
          "metadata": {},
          "output_type": "display_data"
        }
      ],
      "source": [
        "# Elbow method to find the optimal number of clusters\n",
        "wcss = []\n",
        "for i in range(1,11):\n",
        "    kmeans = KMeans(n_clusters=i, init='k-means++', random_state=42)\n",
        "    kmeans.fit(dataset)\n",
        "    wcss.append(kmeans.inertia_)\n",
        "plt.plot(range(1,11), wcss)\n",
        "plt.title('The Elbow Method')\n",
        "plt.xlabel('Number of clusters')\n",
        "plt.ylabel('WCSS')\n",
        "plt.show()"
      ]
    },
    {
      "cell_type": "code",
      "execution_count": 43,
      "metadata": {
        "id": "VNSYSLTWwZfh"
      },
      "outputs": [],
      "source": [
        "# Fit the K-Means model with 5 clusters\n",
        "kmeans = KMeans(n_clusters=3, init='k-means++', random_state=42)\n",
        "y_kmeans = kmeans.fit_predict(dataset)"
      ]
    },
    {
      "cell_type": "code",
      "execution_count": 44,
      "metadata": {
        "colab": {
          "base_uri": "https://localhost:8080/",
          "height": 294
        },
        "id": "BsGZ8SkomPmJ",
        "outputId": "21974a55-3e89-4560-c287-3c36091f9e71"
      },
      "outputs": [
        {
          "data": {
            "image/png": "[encoded data removed]",
            "text/plain": [
              "<Figure size 1000x500 with 1 Axes>"
            ]
          },
          "metadata": {},
          "output_type": "display_data"
        }
      ],
      "source": [
        "# Plot the clusters\n",
        "plt.scatter(dataset[y_kmeans == 0]['bmi'],dataset[y_kmeans == 0]['charges'], s=50, c='red', label='Cluster 1')\n",
        "plt.scatter(dataset[y_kmeans == 1]['bmi'],dataset[y_kmeans == 1]['charges'], s=50, c='blue', label='Cluster 2')\n",
        "plt.scatter(dataset[y_kmeans == 2]['bmi'],dataset[y_kmeans == 2]['charges'], s=50, c='green', label='Cluster 3')\n",
        "plt.scatter(kmeans.cluster_centers_[:, 0], kmeans.cluster_centers_[:, 1], s=200, c='black', label='Centroids')\n",
        "plt.title('Clusters of customers')\n",
        "plt.xlabel('x')\n",
        "plt.ylabel('y')\n",
        "plt.legend()\n",
        "plt.show()"
      ]
    },
    {
      "cell_type": "code",
      "execution_count": 45,
      "metadata": {
        "id": "ffDYUNxvJxqR"
      },
      "outputs": [],
      "source": [
        "# Add new column to the data\n",
        "dataset['Cluster'] = y_kmeans"
      ]
    },
    {
      "cell_type": "code",
      "execution_count": 46,
      "metadata": {
        "colab": {
          "base_uri": "https://localhost:8080/",
          "height": 676
        },
        "id": "DsRMlg8gJ18T",
        "outputId": "24331d5f-0fd4-4b69-8998-1c667f6709d5"
      },
      "outputs": [
        {
          "data": {
            "text/html": [
              "<div>\n",
              "<style scoped>\n",
              "    .dataframe tbody tr th:only-of-type {\n",
              "        vertical-align: middle;\n",
              "    }\n",
              "\n",
              "    .dataframe tbody tr th {\n",
              "        vertical-align: top;\n",
              "    }\n",
              "\n",
              "    .dataframe thead th {\n",
              "        text-align: right;\n",
              "    }\n",
              "</style>\n",
              "<table border=\"1\" class=\"dataframe\">\n",
              "  <thead>\n",
              "    <tr style=\"text-align: right;\">\n",
              "      <th></th>\n",
              "      <th>bmi</th>\n",
              "      <th>charges</th>\n",
              "      <th>Cluster</th>\n",
              "    </tr>\n",
              "  </thead>\n",
              "  <tbody>\n",
              "    <tr>\n",
              "      <th>0</th>\n",
              "      <td>27.900</td>\n",
              "      <td>16884.92400</td>\n",
              "      <td>2</td>\n",
              "    </tr>\n",
              "    <tr>\n",
              "      <th>1</th>\n",
              "      <td>33.770</td>\n",
              "      <td>1725.55230</td>\n",
              "      <td>0</td>\n",
              "    </tr>\n",
              "    <tr>\n",
              "      <th>2</th>\n",
              "      <td>33.000</td>\n",
              "      <td>4449.46200</td>\n",
              "      <td>0</td>\n",
              "    </tr>\n",
              "    <tr>\n",
              "      <th>3</th>\n",
              "      <td>22.705</td>\n",
              "      <td>21984.47061</td>\n",
              "      <td>2</td>\n",
              "    </tr>\n",
              "    <tr>\n",
              "      <th>4</th>\n",
              "      <td>28.880</td>\n",
              "      <td>3866.85520</td>\n",
              "      <td>0</td>\n",
              "    </tr>\n",
              "    <tr>\n",
              "      <th>5</th>\n",
              "      <td>25.740</td>\n",
              "      <td>3756.62160</td>\n",
              "      <td>0</td>\n",
              "    </tr>\n",
              "    <tr>\n",
              "      <th>6</th>\n",
              "      <td>33.440</td>\n",
              "      <td>8240.58960</td>\n",
              "      <td>0</td>\n",
              "    </tr>\n",
              "    <tr>\n",
              "      <th>7</th>\n",
              "      <td>27.740</td>\n",
              "      <td>7281.50560</td>\n",
              "      <td>0</td>\n",
              "    </tr>\n",
              "    <tr>\n",
              "      <th>8</th>\n",
              "      <td>29.830</td>\n",
              "      <td>6406.41070</td>\n",
              "      <td>0</td>\n",
              "    </tr>\n",
              "    <tr>\n",
              "      <th>9</th>\n",
              "      <td>25.840</td>\n",
              "      <td>28923.13692</td>\n",
              "      <td>2</td>\n",
              "    </tr>\n",
              "    <tr>\n",
              "      <th>10</th>\n",
              "      <td>26.220</td>\n",
              "      <td>2721.32080</td>\n",
              "      <td>0</td>\n",
              "    </tr>\n",
              "    <tr>\n",
              "      <th>11</th>\n",
              "      <td>26.290</td>\n",
              "      <td>27808.72510</td>\n",
              "      <td>2</td>\n",
              "    </tr>\n",
              "    <tr>\n",
              "      <th>12</th>\n",
              "      <td>34.400</td>\n",
              "      <td>1826.84300</td>\n",
              "      <td>0</td>\n",
              "    </tr>\n",
              "    <tr>\n",
              "      <th>13</th>\n",
              "      <td>39.820</td>\n",
              "      <td>11090.71780</td>\n",
              "      <td>0</td>\n",
              "    </tr>\n",
              "    <tr>\n",
              "      <th>14</th>\n",
              "      <td>42.130</td>\n",
              "      <td>39611.75770</td>\n",
              "      <td>1</td>\n",
              "    </tr>\n",
              "    <tr>\n",
              "      <th>15</th>\n",
              "      <td>24.600</td>\n",
              "      <td>1837.23700</td>\n",
              "      <td>0</td>\n",
              "    </tr>\n",
              "    <tr>\n",
              "      <th>16</th>\n",
              "      <td>30.780</td>\n",
              "      <td>10797.33620</td>\n",
              "      <td>0</td>\n",
              "    </tr>\n",
              "    <tr>\n",
              "      <th>17</th>\n",
              "      <td>23.845</td>\n",
              "      <td>2395.17155</td>\n",
              "      <td>0</td>\n",
              "    </tr>\n",
              "    <tr>\n",
              "      <th>18</th>\n",
              "      <td>40.300</td>\n",
              "      <td>10602.38500</td>\n",
              "      <td>0</td>\n",
              "    </tr>\n",
              "    <tr>\n",
              "      <th>19</th>\n",
              "      <td>35.300</td>\n",
              "      <td>36837.46700</td>\n",
              "      <td>1</td>\n",
              "    </tr>\n",
              "  </tbody>\n",
              "</table>\n",
              "</div>"
            ],
            "text/plain": [
              "       bmi      charges  Cluster\n",
              "0   27.900  16884.92400        2\n",
              "1   33.770   1725.55230        0\n",
              "2   33.000   4449.46200        0\n",
              "3   22.705  21984.47061        2\n",
              "4   28.880   3866.85520        0\n",
              "5   25.740   3756.62160        0\n",
              "6   33.440   8240.58960        0\n",
              "7   27.740   7281.50560        0\n",
              "8   29.830   6406.41070        0\n",
              "9   25.840  28923.13692        2\n",
              "10  26.220   2721.32080        0\n",
              "11  26.290  27808.72510        2\n",
              "12  34.400   1826.84300        0\n",
              "13  39.820  11090.71780        0\n",
              "14  42.130  39611.75770        1\n",
              "15  24.600   1837.23700        0\n",
              "16  30.780  10797.33620        0\n",
              "17  23.845   2395.17155        0\n",
              "18  40.300  10602.38500        0\n",
              "19  35.300  36837.46700        1"
            ]
          },
          "execution_count": 46,
          "metadata": {},
          "output_type": "execute_result"
        }
      ],
      "source": [
        "# Show the first 5 rows of the data\n",
        "dataset.head(20)"
      ]
    },
    {
      "cell_type": "code",
      "execution_count": 47,
      "metadata": {
        "colab": {
          "base_uri": "https://localhost:8080/"
        },
        "id": "bcE_F-HQKLVx",
        "outputId": "3169d5b0-cb5e-4bd0-9393-0f8548ddf12e"
      },
      "outputs": [
        {
          "data": {
            "text/plain": [
              "dtype('int32')"
            ]
          },
          "execution_count": 47,
          "metadata": {},
          "output_type": "execute_result"
        }
      ],
      "source": [
        "# Data type of the Cluster column\n",
        "dataset['Cluster'].dtype"
      ]
    },
    {
      "cell_type": "code",
      "execution_count": 48,
      "metadata": {
        "colab": {
          "base_uri": "https://localhost:8080/"
        },
        "id": "hlXv-7YrKPiN",
        "outputId": "b8d11dc4-ecc6-4656-8c44-06f9ed814c21"
      },
      "outputs": [
        {
          "data": {
            "text/plain": [
              "array([2, 0, 1])"
            ]
          },
          "execution_count": 48,
          "metadata": {},
          "output_type": "execute_result"
        }
      ],
      "source": [
        "dataset['Cluster'].unique()"
      ]
    },
    {
      "cell_type": "markdown",
      "metadata": {
        "id": "Y-67TyIpUHe1"
      },
      "source": [
        "Keterangan : Kalo di cluster 2 berarti medical costnya tinggi, 0 sedeng dan 1 rendah\n"
      ]
    },
    {
      "cell_type": "code",
      "execution_count": 49,
      "metadata": {},
      "outputs": [],
      "source": [
        "# Serializing the model\n",
        "import pickle\n",
        "pickle.dump(kmeans, open('model.pkl', 'wb'))"
      ]
    }
  ],
  "metadata": {
    "colab": {
      "provenance": []
    },
    "kernelspec": {
      "display_name": "Python 3.10.4 64-bit",
      "language": "python",
      "name": "python3"
    },
    "language_info": {
      "codemirror_mode": {
        "name": "ipython",
        "version": 3
      },
      "file_extension": ".py",
      "mimetype": "text/x-python",
      "name": "python",
      "nbconvert_exporter": "python",
      "pygments_lexer": "ipython3",
      "version": "3.10.4"
    },
    "vscode": {
      "interpreter": {
        "hash": "27f6fea6f47ae512550f0b8facdbd035a93e1dd89633f7bf2dd00a2502c71d0d"
      }
    }
  },
  "nbformat": 4,
  "nbformat_minor": 0
}
